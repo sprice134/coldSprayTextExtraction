{
 "cells": [
  {
   "cell_type": "code",
   "execution_count": 6,
   "metadata": {},
   "outputs": [
    {
     "ename": "AttributeError",
     "evalue": "module 'scholarly' has no attribute 'search_pubs'",
     "output_type": "error",
     "traceback": [
      "\u001b[0;31m---------------------------------------------------------------------------\u001b[0m",
      "\u001b[0;31mAttributeError\u001b[0m                            Traceback (most recent call last)",
      "Cell \u001b[0;32mIn[6], line 7\u001b[0m\n\u001b[1;32m      4\u001b[0m query \u001b[38;5;241m=\u001b[39m \u001b[38;5;124m'\u001b[39m\u001b[38;5;124mCold Spray \u001b[39m\u001b[38;5;124m\"\u001b[39m\u001b[38;5;124mAL 6061\u001b[39m\u001b[38;5;124m\"\u001b[39m\u001b[38;5;124m'\u001b[39m\n\u001b[1;32m      6\u001b[0m \u001b[38;5;66;03m# Perform the search\u001b[39;00m\n\u001b[0;32m----> 7\u001b[0m search_results \u001b[38;5;241m=\u001b[39m \u001b[43mscholarly\u001b[49m\u001b[38;5;241;43m.\u001b[39;49m\u001b[43msearch_pubs\u001b[49m(query)\n\u001b[1;32m      9\u001b[0m \u001b[38;5;66;03m# Iterate over the search results and print the title and URL\u001b[39;00m\n\u001b[1;32m     10\u001b[0m \u001b[38;5;28;01mfor\u001b[39;00m result \u001b[38;5;129;01min\u001b[39;00m search_results:\n",
      "\u001b[0;31mAttributeError\u001b[0m: module 'scholarly' has no attribute 'search_pubs'"
     ]
    }
   ],
   "source": [
    "import scholarly\n",
    "\n",
    "# Define the search query\n",
    "query = 'Cold Spray \"AL 6061\"'\n",
    "\n",
    "# Perform the search\n",
    "search_results = scholarly.search_pubs(query)\n",
    "\n",
    "# Iterate over the search results and print the title and URL\n",
    "for result in search_results:\n",
    "    print(f'Title: {result.bib[\"title\"]}')\n",
    "    print(f'URL: {result.bib.get(\"url\", \"No URL available\")}')\n",
    "    print('-' * 80)\n"
   ]
  }
 ],
 "metadata": {
  "kernelspec": {
   "display_name": "llmExtraction",
   "language": "python",
   "name": "python3"
  },
  "language_info": {
   "codemirror_mode": {
    "name": "ipython",
    "version": 3
   },
   "file_extension": ".py",
   "mimetype": "text/x-python",
   "name": "python",
   "nbconvert_exporter": "python",
   "pygments_lexer": "ipython3",
   "version": "3.11.7"
  }
 },
 "nbformat": 4,
 "nbformat_minor": 2
}
